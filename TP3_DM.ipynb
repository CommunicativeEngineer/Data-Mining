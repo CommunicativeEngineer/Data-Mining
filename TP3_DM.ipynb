{
 "cells": [
  {
   "cell_type": "markdown",
   "metadata": {},
   "source": [
    "# TP N°3 : Classification supervisée : Apprentissage et évaluation"
   ]
  },
  {
   "cell_type": "markdown",
   "metadata": {},
   "source": [
    "# TP3_DM_JiheneHANI_RymKALLEL_MohamedMelekMARZOUKI_GL4_groupe2"
   ]
  },
  {
   "cell_type": "markdown",
   "metadata": {},
   "source": [
    "# I- Jeux de données :"
   ]
  },
  {
   "cell_type": "code",
   "execution_count": 1,
   "metadata": {},
   "outputs": [
    {
     "data": {
      "text/html": [
       "\n",
       "        <iframe\n",
       "            width=\"300\"\n",
       "            height=\"200\"\n",
       "            src=\"http://archive.ics.uci.edu/ml/machine-learning-databases/iris/iris.data\"\n",
       "            frameborder=\"0\"\n",
       "            allowfullscreen\n",
       "        ></iframe>\n",
       "        "
      ],
      "text/plain": [
       "<IPython.lib.display.IFrame at 0x1f699f86b70>"
      ]
     },
     "execution_count": 1,
     "metadata": {},
     "output_type": "execute_result"
    }
   ],
   "source": [
    "from IPython.display import IFrame\n",
    "IFrame('http://archive.ics.uci.edu/ml/machine-learning-databases/iris/iris.data',width=300, height=200)"
   ]
  },
  {
   "cell_type": "code",
   "execution_count": 2,
   "metadata": {},
   "outputs": [
    {
     "name": "stdout",
     "output_type": "stream",
     "text": [
      "[[5.1 3.5 1.4 0.2]\n",
      " [4.9 3.  1.4 0.2]\n",
      " [4.7 3.2 1.3 0.2]\n",
      " [4.6 3.1 1.5 0.2]\n",
      " [5.  3.6 1.4 0.2]\n",
      " [5.4 3.9 1.7 0.4]\n",
      " [4.6 3.4 1.4 0.3]\n",
      " [5.  3.4 1.5 0.2]\n",
      " [4.4 2.9 1.4 0.2]\n",
      " [4.9 3.1 1.5 0.1]\n",
      " [5.4 3.7 1.5 0.2]\n",
      " [4.8 3.4 1.6 0.2]\n",
      " [4.8 3.  1.4 0.1]\n",
      " [4.3 3.  1.1 0.1]\n",
      " [5.8 4.  1.2 0.2]\n",
      " [5.7 4.4 1.5 0.4]\n",
      " [5.4 3.9 1.3 0.4]\n",
      " [5.1 3.5 1.4 0.3]\n",
      " [5.7 3.8 1.7 0.3]\n",
      " [5.1 3.8 1.5 0.3]\n",
      " [5.4 3.4 1.7 0.2]\n",
      " [5.1 3.7 1.5 0.4]\n",
      " [4.6 3.6 1.  0.2]\n",
      " [5.1 3.3 1.7 0.5]\n",
      " [4.8 3.4 1.9 0.2]\n",
      " [5.  3.  1.6 0.2]\n",
      " [5.  3.4 1.6 0.4]\n",
      " [5.2 3.5 1.5 0.2]\n",
      " [5.2 3.4 1.4 0.2]\n",
      " [4.7 3.2 1.6 0.2]\n",
      " [4.8 3.1 1.6 0.2]\n",
      " [5.4 3.4 1.5 0.4]\n",
      " [5.2 4.1 1.5 0.1]\n",
      " [5.5 4.2 1.4 0.2]\n",
      " [4.9 3.1 1.5 0.2]\n",
      " [5.  3.2 1.2 0.2]\n",
      " [5.5 3.5 1.3 0.2]\n",
      " [4.9 3.6 1.4 0.1]\n",
      " [4.4 3.  1.3 0.2]\n",
      " [5.1 3.4 1.5 0.2]\n",
      " [5.  3.5 1.3 0.3]\n",
      " [4.5 2.3 1.3 0.3]\n",
      " [4.4 3.2 1.3 0.2]\n",
      " [5.  3.5 1.6 0.6]\n",
      " [5.1 3.8 1.9 0.4]\n",
      " [4.8 3.  1.4 0.3]\n",
      " [5.1 3.8 1.6 0.2]\n",
      " [4.6 3.2 1.4 0.2]\n",
      " [5.3 3.7 1.5 0.2]\n",
      " [5.  3.3 1.4 0.2]\n",
      " [7.  3.2 4.7 1.4]\n",
      " [6.4 3.2 4.5 1.5]\n",
      " [6.9 3.1 4.9 1.5]\n",
      " [5.5 2.3 4.  1.3]\n",
      " [6.5 2.8 4.6 1.5]\n",
      " [5.7 2.8 4.5 1.3]\n",
      " [6.3 3.3 4.7 1.6]\n",
      " [4.9 2.4 3.3 1. ]\n",
      " [6.6 2.9 4.6 1.3]\n",
      " [5.2 2.7 3.9 1.4]\n",
      " [5.  2.  3.5 1. ]\n",
      " [5.9 3.  4.2 1.5]\n",
      " [6.  2.2 4.  1. ]\n",
      " [6.1 2.9 4.7 1.4]\n",
      " [5.6 2.9 3.6 1.3]\n",
      " [6.7 3.1 4.4 1.4]\n",
      " [5.6 3.  4.5 1.5]\n",
      " [5.8 2.7 4.1 1. ]\n",
      " [6.2 2.2 4.5 1.5]\n",
      " [5.6 2.5 3.9 1.1]\n",
      " [5.9 3.2 4.8 1.8]\n",
      " [6.1 2.8 4.  1.3]\n",
      " [6.3 2.5 4.9 1.5]\n",
      " [6.1 2.8 4.7 1.2]\n",
      " [6.4 2.9 4.3 1.3]\n",
      " [6.6 3.  4.4 1.4]\n",
      " [6.8 2.8 4.8 1.4]\n",
      " [6.7 3.  5.  1.7]\n",
      " [6.  2.9 4.5 1.5]\n",
      " [5.7 2.6 3.5 1. ]\n",
      " [5.5 2.4 3.8 1.1]\n",
      " [5.5 2.4 3.7 1. ]\n",
      " [5.8 2.7 3.9 1.2]\n",
      " [6.  2.7 5.1 1.6]\n",
      " [5.4 3.  4.5 1.5]\n",
      " [6.  3.4 4.5 1.6]\n",
      " [6.7 3.1 4.7 1.5]\n",
      " [6.3 2.3 4.4 1.3]\n",
      " [5.6 3.  4.1 1.3]\n",
      " [5.5 2.5 4.  1.3]\n",
      " [5.5 2.6 4.4 1.2]\n",
      " [6.1 3.  4.6 1.4]\n",
      " [5.8 2.6 4.  1.2]\n",
      " [5.  2.3 3.3 1. ]\n",
      " [5.6 2.7 4.2 1.3]\n",
      " [5.7 3.  4.2 1.2]\n",
      " [5.7 2.9 4.2 1.3]\n",
      " [6.2 2.9 4.3 1.3]\n",
      " [5.1 2.5 3.  1.1]\n",
      " [5.7 2.8 4.1 1.3]\n",
      " [6.3 3.3 6.  2.5]\n",
      " [5.8 2.7 5.1 1.9]\n",
      " [7.1 3.  5.9 2.1]\n",
      " [6.3 2.9 5.6 1.8]\n",
      " [6.5 3.  5.8 2.2]\n",
      " [7.6 3.  6.6 2.1]\n",
      " [4.9 2.5 4.5 1.7]\n",
      " [7.3 2.9 6.3 1.8]\n",
      " [6.7 2.5 5.8 1.8]\n",
      " [7.2 3.6 6.1 2.5]\n",
      " [6.5 3.2 5.1 2. ]\n",
      " [6.4 2.7 5.3 1.9]\n",
      " [6.8 3.  5.5 2.1]\n",
      " [5.7 2.5 5.  2. ]\n",
      " [5.8 2.8 5.1 2.4]\n",
      " [6.4 3.2 5.3 2.3]\n",
      " [6.5 3.  5.5 1.8]\n",
      " [7.7 3.8 6.7 2.2]\n",
      " [7.7 2.6 6.9 2.3]\n",
      " [6.  2.2 5.  1.5]\n",
      " [6.9 3.2 5.7 2.3]\n",
      " [5.6 2.8 4.9 2. ]\n",
      " [7.7 2.8 6.7 2. ]\n",
      " [6.3 2.7 4.9 1.8]\n",
      " [6.7 3.3 5.7 2.1]\n",
      " [7.2 3.2 6.  1.8]\n",
      " [6.2 2.8 4.8 1.8]\n",
      " [6.1 3.  4.9 1.8]\n",
      " [6.4 2.8 5.6 2.1]\n",
      " [7.2 3.  5.8 1.6]\n",
      " [7.4 2.8 6.1 1.9]\n",
      " [7.9 3.8 6.4 2. ]\n",
      " [6.4 2.8 5.6 2.2]\n",
      " [6.3 2.8 5.1 1.5]\n",
      " [6.1 2.6 5.6 1.4]\n",
      " [7.7 3.  6.1 2.3]\n",
      " [6.3 3.4 5.6 2.4]\n",
      " [6.4 3.1 5.5 1.8]\n",
      " [6.  3.  4.8 1.8]\n",
      " [6.9 3.1 5.4 2.1]\n",
      " [6.7 3.1 5.6 2.4]\n",
      " [6.9 3.1 5.1 2.3]\n",
      " [5.8 2.7 5.1 1.9]\n",
      " [6.8 3.2 5.9 2.3]\n",
      " [6.7 3.3 5.7 2.5]\n",
      " [6.7 3.  5.2 2.3]\n",
      " [6.3 2.5 5.  1.9]\n",
      " [6.5 3.  5.2 2. ]\n",
      " [6.2 3.4 5.4 2.3]\n",
      " [5.9 3.  5.1 1.8]]\n",
      "[0 0 0 0 0 0 0 0 0 0 0 0 0 0 0 0 0 0 0 0 0 0 0 0 0 0 0 0 0 0 0 0 0 0 0 0 0\n",
      " 0 0 0 0 0 0 0 0 0 0 0 0 0 1 1 1 1 1 1 1 1 1 1 1 1 1 1 1 1 1 1 1 1 1 1 1 1\n",
      " 1 1 1 1 1 1 1 1 1 1 1 1 1 1 1 1 1 1 1 1 1 1 1 1 1 1 2 2 2 2 2 2 2 2 2 2 2\n",
      " 2 2 2 2 2 2 2 2 2 2 2 2 2 2 2 2 2 2 2 2 2 2 2 2 2 2 2 2 2 2 2 2 2 2 2 2 2\n",
      " 2 2]\n"
     ]
    }
   ],
   "source": [
    "from sklearn import datasets\n",
    "irisData = datasets.load_iris()\n",
    "print (irisData.data)\n",
    "print (irisData.target)"
   ]
  },
  {
   "cell_type": "code",
   "execution_count": 3,
   "metadata": {},
   "outputs": [
    {
     "name": "stdout",
     "output_type": "stream",
     "text": [
      "600\n"
     ]
    }
   ],
   "source": [
    "print (irisData.data.size)"
   ]
  },
  {
   "cell_type": "code",
   "execution_count": 4,
   "metadata": {},
   "outputs": [
    {
     "name": "stdout",
     "output_type": "stream",
     "text": [
      "150\n"
     ]
    }
   ],
   "source": [
    "print (irisData.target.size)"
   ]
  },
  {
   "cell_type": "raw",
   "metadata": {},
   "source": [
    "Comprendre et programmer les quelques lignes précédentes : comment sont réparties les données dans les tableaux ?"
   ]
  },
  {
   "cell_type": "markdown",
   "metadata": {},
   "source": [
    "la taille est 600 car il y a 150 150 exemples de critères observés et 4 attributs => 4*150 =600 Il y a 3 classes, pour les étiquettes 0 , 1 et 2"
   ]
  },
  {
   "cell_type": "raw",
   "metadata": {},
   "source": [
    "Combien y a-t-il de données dans chaque classe ?"
   ]
  },
  {
   "cell_type": "code",
   "execution_count": 5,
   "metadata": {},
   "outputs": [
    {
     "name": "stdout",
     "output_type": "stream",
     "text": [
      "Nombre de données dans la classe setosa est  50 \n",
      "Nombre de données dans la classe versicolor est  50 \n",
      "Nombre de données dans la classe virginica est  50\n"
     ]
    }
   ],
   "source": [
    "setosa=0\n",
    "versicolor=0\n",
    "virginica=0\n",
    "for i in irisData.target:\n",
    "    if i==0 :\n",
    "        setosa +=1\n",
    "    if i==1 :\n",
    "        versicolor +=1\n",
    "    if i==2 :\n",
    "        virginica +=1\n",
    "print(\"Nombre de données dans la classe setosa est \",setosa, \"\\nNombre de données dans la classe versicolor est \",versicolor,\"\\nNombre de données dans la classe virginica est \", virginica)"
   ]
  },
  {
   "cell_type": "raw",
   "metadata": {},
   "source": [
    "Quels sont les attributs et la classe du 32ème élément de l'échantillon ?"
   ]
  },
  {
   "cell_type": "code",
   "execution_count": 6,
   "metadata": {},
   "outputs": [
    {
     "name": "stdout",
     "output_type": "stream",
     "text": [
      "Les attributs de la classe 32 sont :  [5.4 3.4 1.5 0.4]\n"
     ]
    }
   ],
   "source": [
    "print(\"Les attributs de la classe 32 sont : \",irisData.data[31])"
   ]
  },
  {
   "cell_type": "raw",
   "metadata": {},
   "source": [
    "Comprendre, commenter et programmer le code source suivant :"
   ]
  },
  {
   "cell_type": "code",
   "execution_count": 7,
   "metadata": {},
   "outputs": [],
   "source": [
    "#charger les bibliothèques matplotlib  , pylab et itertools \n",
    "import matplotlib\n",
    "import pylab as pl\n",
    "from itertools import cycle\n",
    "\n",
    "#définition de la fonction plot_2D pour \n",
    "def plot_2D(data, target, target_names):\n",
    "    # instanciation du cycle de couleurs\n",
    "    colors = cycle('rgbcmykw') \n",
    "    #création d'un tableau d'id ayant la longueur des target_names\n",
    "    target_ids = range(len(target_names))\n",
    "    #appel de la fonction figure  pour  la création de figure\n",
    "    pl.figure()\n",
    "    #parcours du tableau des ids et des target_names, selon le cycle de couleur\n",
    "    for i, c, label in zip(target_ids, colors, target_names):\n",
    "        #division des instances selon leurs classes\n",
    "        pl.scatter(data[target == i, 0], data[target == i, 1], c=c, label=label)\n",
    "    #appel de la fonction legend  pour écrire la légende du schéma   \n",
    "    pl.legend()\n",
    "    #appel de la fonction show pour visualiser la figure\n",
    "    pl.show()"
   ]
  },
  {
   "cell_type": "code",
   "execution_count": 8,
   "metadata": {},
   "outputs": [
    {
     "data": {
      "image/png": "[encoded data removed]",
      "text/plain": [
       "<Figure size 432x288 with 1 Axes>"
      ]
     },
     "metadata": {
      "needs_background": "light"
     },
     "output_type": "display_data"
    }
   ],
   "source": [
    "#Utilisation de la fonction\n",
    "plot_2D(irisData.data,irisData.target,irisData.target_names)"
   ]
  },
  {
   "cell_type": "raw",
   "metadata": {},
   "source": [
    "S'en inspirer pour produire l'affichage de la répartition des données selon d'autres couples d'attributs."
   ]
  },
  {
   "cell_type": "code",
   "execution_count": 9,
   "metadata": {},
   "outputs": [],
   "source": [
    "import matplotlib\n",
    "import pylab as pl\n",
    "from itertools import cycle\n",
    "def plot_2D(data, target, target_names):\n",
    "    colors = cycle('rgbcmykw') \n",
    "    target_ids = range(len(target_names))\n",
    "    pl.figure()\n",
    "    for i, c, label in zip(target_ids, colors, target_names):\n",
    "        #d'autres couple d'attributs\n",
    "        pl.scatter(data[target == i, 2], data[target == i, 1], c=c, label=label)  \n",
    "    pl.legend()\n",
    "    pl.show()"
   ]
  },
  {
   "cell_type": "code",
   "execution_count": 10,
   "metadata": {},
   "outputs": [
    {
     "data": {
      "image/png": "[encoded data removed]",
      "text/plain": [
       "<Figure size 432x288 with 1 Axes>"
      ]
     },
     "metadata": {
      "needs_background": "light"
     },
     "output_type": "display_data"
    }
   ],
   "source": [
    "plot_2D(irisData.data,irisData.target,irisData.target_names)"
   ]
  },
  {
   "cell_type": "raw",
   "metadata": {},
   "source": [
    "c. Est-ce qu'il existe un espace 2D (constitué de deux attributs) dans lequel une droite (parmi d'autres) permettrait de séparer les exemples d'une classe des exemples des deux autres classes ? Si oui, fournir une équation de cette droite."
   ]
  },
  {
   "cell_type": "markdown",
   "metadata": {},
   "source": [
    "f(x) : x = 2.5 ou f(x)= 2.25 + x"
   ]
  },
  {
   "cell_type": "markdown",
   "metadata": {},
   "source": [
    "# Un premier apprentissage de classiffieur"
   ]
  },
  {
   "cell_type": "raw",
   "metadata": {},
   "source": [
    "Comprendre et programmer l'exemple ci-dessous : quel est le résultat ?"
   ]
  },
  {
   "cell_type": "code",
   "execution_count": 11,
   "metadata": {},
   "outputs": [
    {
     "data": {
      "text/plain": [
       "MultinomialNB(alpha=1.0, class_prior=None, fit_prior=True)"
      ]
     },
     "execution_count": 11,
     "metadata": {},
     "output_type": "execute_result"
    }
   ],
   "source": [
    "from sklearn import naive_bayes\n",
    "#fit_prior Whether to learn class prior probabilities or not. If false, a uniform prior will be used.\n",
    "nb = naive_bayes.MultinomialNB(fit_prior=True)# un algo d'apprentissage\n",
    "irisData = datasets.load_iris() #chargement de la dataset\n",
    "#la fonction fit   apprend un modèle à partir des données \n",
    "#(ce modèle est stocké en interne dans un enregistrement de la variable clf)\n",
    "#[: - 1] représente la totalité du tableau, à l'exception de sa derniere case\n",
    "nb.fit(irisData.data[:-1], irisData.target[:-1])"
   ]
  },
  {
   "cell_type": "code",
   "execution_count": 12,
   "metadata": {},
   "outputs": [
    {
     "name": "stdout",
     "output_type": "stream",
     "text": [
      "[0]\n"
     ]
    }
   ],
   "source": [
    "temp=irisData.data[31]\n",
    "temp= temp.reshape(1,-1) \n",
    "p31 = nb.predict(temp) #renvoie un tableau qui stocke, pour\n",
    "#chaque nouvelle donnée en entrée, la classe prédite par le modèle précédemment appris\n",
    "#via l'estimateur \n",
    "print (p31)"
   ]
  },
  {
   "cell_type": "code",
   "execution_count": 13,
   "metadata": {},
   "outputs": [
    {
     "name": "stdout",
     "output_type": "stream",
     "text": [
      "[2]\n"
     ]
    }
   ],
   "source": [
    "temp2= irisData.data[-1]\n",
    "temp2= temp2.reshape(1,-1) \n",
    "plast = nb.predict(temp2)#prediction à l'aide du model \n",
    "print (plast)"
   ]
  },
  {
   "cell_type": "code",
   "execution_count": 14,
   "metadata": {},
   "outputs": [
    {
     "name": "stdout",
     "output_type": "stream",
     "text": [
      "[0 0 0 0 0 0 0 0 0 0 0 0 0 0 0 0 0 0 0 0 0 0 0 0 0 0 0 0 0 0 0 0 0 0 0 0 0\n",
      " 0 0 0 0 0 0 0 0 0 0 0 0 0 1 1 1 1 1 1 1 1 1 1 1 1 1 1 1 1 1 1 1 1 1 1 1 1\n",
      " 1 1 1 1 1 1 1 1 1 2 1 1 1 1 1 1 1 1 1 1 1 1 1 1 1 1 2 2 2 2 2 2 2 2 2 2 2\n",
      " 2 2 2 2 2 2 2 2 2 2 2 2 2 2 1 2 2 2 1 2 1 2 1 2 2 2 2 2 2 2 2 2 2 2 2 2 2\n",
      " 2 2]\n"
     ]
    }
   ],
   "source": [
    "P = nb.predict(irisData.data[:])#prediction à l'aide du model de tou le tablea[:]\n",
    "print (P)"
   ]
  },
  {
   "cell_type": "raw",
   "metadata": {},
   "source": [
    "De la même façon : que réalise le programme ci-dessous ? Les résultats vous semblentils cohérents ? Comment interpréter les résultats ? Que proposez-vous pour équilibrer l'ensemble d'apprentissage et l'ensemble de test ?"
   ]
  },
  {
   "cell_type": "code",
   "execution_count": 15,
   "metadata": {},
   "outputs": [
    {
     "data": {
      "text/plain": [
       "array([1, 1, 1, 1, 1, 1, 1, 1, 1, 1, 1, 1, 1, 1, 1, 1, 1, 1, 1, 1, 1, 1,\n",
       "       1, 1, 1, 1, 1, 1, 1, 1, 1, 1, 1, 1, 1, 1, 1, 1, 1, 1, 1, 1, 1, 1,\n",
       "       1, 1, 1, 1, 1])"
      ]
     },
     "execution_count": 15,
     "metadata": {},
     "output_type": "execute_result"
    }
   ],
   "source": [
    "from sklearn import naive_bayes\n",
    "nb = naive_bayes.MultinomialNB(fit_prior=True)\n",
    "nb.fit(irisData.data[:99], irisData.target[:99])\n",
    "nb.predict(irisData.data[100:149])"
   ]
  },
  {
   "cell_type": "markdown",
   "metadata": {},
   "source": [
    "Ce programme prédit les classes des données du rang 100 au rang 149 , se basant sur l'apprentissage de données selon l'algorithme naive bayes"
   ]
  },
  {
   "cell_type": "markdown",
   "metadata": {},
   "source": [
    "# III- Evaluer les performances d'un classiffieur"
   ]
  },
  {
   "cell_type": "raw",
   "metadata": {},
   "source": [
    "Le code suivant permet de compter les erreurs et ainsi de calculer l'erreur d'apprentissage :"
   ]
  },
  {
   "cell_type": "code",
   "execution_count": 16,
   "metadata": {},
   "outputs": [
    {
     "name": "stdout",
     "output_type": "stream",
     "text": [
      "0.03333333333333333\n"
     ]
    }
   ],
   "source": [
    "Y = irisData.target\n",
    "ea = 0\n",
    "for i in range(len(irisData.data)):\n",
    "    if (P[i] != Y[i]):\n",
    "        ea= ea + 1\n",
    "print (ea/len(irisData.data))"
   ]
  },
  {
   "cell_type": "raw",
   "metadata": {},
   "source": [
    "2.Les opérateurs sur les tableaux et matrices devraient vous permettre d'effectuer ce comptage en une seule instruction ! Indice : pensez à exploiter le tableau P-Y : que représentent des valeurs non nulles ? Comment compter (en une seule instruction) le nombre de valeurs non-nulles1?"
   ]
  },
  {
   "cell_type": "code",
   "execution_count": 17,
   "metadata": {},
   "outputs": [
    {
     "data": {
      "text/plain": [
       "array([ 0,  0,  0,  0,  0,  0,  0,  0,  0,  0,  0,  0,  0,  0,  0,  0,  0,\n",
       "        0,  0,  0,  0,  0,  0,  0,  0,  0,  0,  0,  0,  0,  0,  0,  0,  0,\n",
       "        0,  0,  0,  0,  0,  0,  0,  0,  0,  0,  0,  0,  0,  0,  0,  0,  0,\n",
       "        0,  0,  0,  0,  0,  0,  0,  0,  0,  0,  0,  0,  0,  0,  0,  0,  0,\n",
       "        0,  0,  0,  0,  0,  0,  0,  0,  0,  0,  0,  0,  0,  0,  0,  1,  0,\n",
       "        0,  0,  0,  0,  0,  0,  0,  0,  0,  0,  0,  0,  0,  0,  0,  0,  0,\n",
       "        0,  0,  0,  0,  0,  0,  0,  0,  0,  0,  0,  0,  0,  0,  0,  0,  0,\n",
       "        0,  0,  0,  0,  0,  0, -1,  0,  0,  0, -1,  0, -1,  0, -1,  0,  0,\n",
       "        0,  0,  0,  0,  0,  0,  0,  0,  0,  0,  0,  0,  0,  0])"
      ]
     },
     "execution_count": 17,
     "metadata": {},
     "output_type": "execute_result"
    }
   ],
   "source": [
    "P-Y"
   ]
  },
  {
   "cell_type": "markdown",
   "metadata": {},
   "source": [
    "Les valeurs nulles représentent une égalité entre la colonne d'indice i du tableau P et du tableau Y, les valeurs non nullles sont les valeurs ou la prédiction est différente de la classe définie dans le target"
   ]
  },
  {
   "cell_type": "raw",
   "metadata": {},
   "source": [
    "Comment compter (en une seule instruction) le nombre de valeurs non-nulles1"
   ]
  },
  {
   "cell_type": "code",
   "execution_count": 18,
   "metadata": {},
   "outputs": [
    {
     "data": {
      "text/plain": [
       "0.03333333333333333"
      ]
     },
     "execution_count": 18,
     "metadata": {},
     "output_type": "execute_result"
    }
   ],
   "source": [
    "from collections import Counter\n",
    "(len(P) - Counter(P-Y)[0])/len(irisData.data)"
   ]
  },
  {
   "cell_type": "raw",
   "metadata": {},
   "source": [
    "Implantez les trois méthodes décrites ci-dessus pour calculer l'erreur apparente. Pour chacune, indiquez votre code. Pour chacune, quelle erreur apparente obtenez-vous ?"
   ]
  },
  {
   "cell_type": "code",
   "execution_count": 19,
   "metadata": {},
   "outputs": [
    {
     "data": {
      "text/plain": [
       "0.6866666666666666"
      ]
     },
     "execution_count": 19,
     "metadata": {},
     "output_type": "execute_result"
    }
   ],
   "source": [
    "#methode 1 avec la methode score\n",
    "nb.score(irisData.data,P)"
   ]
  },
  {
   "cell_type": "code",
   "execution_count": 20,
   "metadata": {},
   "outputs": [
    {
     "data": {
      "text/plain": [
       "0.9666666666666667"
      ]
     },
     "execution_count": 20,
     "metadata": {},
     "output_type": "execute_result"
    }
   ],
   "source": [
    "#methode 2 avec la formule 1-e\n",
    "1-((len(P) - Counter(P-Y)[0])/len(irisData.data))"
   ]
  },
  {
   "cell_type": "markdown",
   "metadata": {},
   "source": [
    "# 2. Performances en généralisation"
   ]
  },
  {
   "cell_type": "raw",
   "metadata": {},
   "source": [
    "Créez la fonction split(S) pour séparer en deux un échantillon S de couples (X, y) supposés uniformément repartis, selon le principe évoqué précédemment. On suppose que S est une variable de type datasets. Cette fonction renvoie un tableau à quatre éléments : [dataS1, targetS1, dataS2, targetS2] où dataS1 et dataS2 sont des matrices ayant le même nombre de colonnes que S.data, et où targetS1 et targetS2 sont des vecteurs d'étiquettes"
   ]
  },
  {
   "cell_type": "code",
   "execution_count": 21,
   "metadata": {},
   "outputs": [],
   "source": [
    "import random\n",
    "import numpy\n",
    "def split(S):\n",
    "        #data\n",
    "        dataS1= range(len(S.data))\n",
    "        dataS2= range(len(S.data))\n",
    "        #int 1/3 et 2/3 \n",
    "        deuxtiers=int(len(S.data)*2/3)+1\n",
    "        untiers=int(len(S.data)/3)\n",
    "        #target\n",
    "        targetS1=range(deuxtiers)\n",
    "        targetS2=range(untiers)\n",
    "       \n",
    "        dataS1=random.sample(list(S.data),deuxtiers )\n",
    "        dataS2=random.sample(list(S.data),untiers )\n",
    "    \n",
    "        targetS1=random.sample(list(S.target),deuxtiers )\n",
    "        targetS2=random.sample(list(S.target),untiers )\n",
    "        \n",
    "        return [dataS1, targetS1, dataS2, targetS2]"
   ]
  },
  {
   "cell_type": "code",
   "execution_count": 22,
   "metadata": {},
   "outputs": [
    {
     "data": {
      "text/plain": [
       "[[array([6.3, 3.3, 6. , 2.5]),\n",
       "  array([5.5, 2.6, 4.4, 1.2]),\n",
       "  array([5.8, 2.7, 4.1, 1. ]),\n",
       "  array([6. , 3. , 4.8, 1.8]),\n",
       "  array([5.5, 2.3, 4. , 1.3]),\n",
       "  array([6.9, 3.1, 4.9, 1.5]),\n",
       "  array([4.8, 3.4, 1.6, 0.2]),\n",
       "  array([4.6, 3.1, 1.5, 0.2]),\n",
       "  array([5. , 2.3, 3.3, 1. ]),\n",
       "  array([5.1, 3.8, 1.5, 0.3]),\n",
       "  array([6.7, 3.1, 5.6, 2.4]),\n",
       "  array([5.5, 3.5, 1.3, 0.2]),\n",
       "  array([4.6, 3.6, 1. , 0.2]),\n",
       "  array([6.6, 3. , 4.4, 1.4]),\n",
       "  array([5.5, 4.2, 1.4, 0.2]),\n",
       "  array([5.1, 3.3, 1.7, 0.5]),\n",
       "  array([5.8, 4. , 1.2, 0.2]),\n",
       "  array([5.2, 2.7, 3.9, 1.4]),\n",
       "  array([5.7, 3.8, 1.7, 0.3]),\n",
       "  array([6.3, 3.4, 5.6, 2.4]),\n",
       "  array([4.8, 3. , 1.4, 0.3]),\n",
       "  array([6.3, 2.8, 5.1, 1.5]),\n",
       "  array([6.5, 3.2, 5.1, 2. ]),\n",
       "  array([5.7, 4.4, 1.5, 0.4]),\n",
       "  array([5.8, 2.7, 5.1, 1.9]),\n",
       "  array([7.3, 2.9, 6.3, 1.8]),\n",
       "  array([5. , 3.5, 1.6, 0.6]),\n",
       "  array([7.7, 2.6, 6.9, 2.3]),\n",
       "  array([5.3, 3.7, 1.5, 0.2]),\n",
       "  array([5.1, 3.4, 1.5, 0.2]),\n",
       "  array([6.3, 2.3, 4.4, 1.3]),\n",
       "  array([6.9, 3.1, 5.1, 2.3]),\n",
       "  array([6.4, 3.2, 5.3, 2.3]),\n",
       "  array([5.5, 2.4, 3.8, 1.1]),\n",
       "  array([5. , 3. , 1.6, 0.2]),\n",
       "  array([6. , 2.2, 5. , 1.5]),\n",
       "  array([5.9, 3. , 4.2, 1.5]),\n",
       "  array([6.5, 2.8, 4.6, 1.5]),\n",
       "  array([6.7, 3.1, 4.4, 1.4]),\n",
       "  array([4.7, 3.2, 1.3, 0.2]),\n",
       "  array([5. , 3.3, 1.4, 0.2]),\n",
       "  array([5.8, 2.7, 3.9, 1.2]),\n",
       "  array([4.9, 3. , 1.4, 0.2]),\n",
       "  array([6. , 2.9, 4.5, 1.5]),\n",
       "  array([6.7, 2.5, 5.8, 1.8]),\n",
       "  array([5.7, 2.8, 4.1, 1.3]),\n",
       "  array([6.4, 3.2, 4.5, 1.5]),\n",
       "  array([6.2, 2.9, 4.3, 1.3]),\n",
       "  array([7.7, 3. , 6.1, 2.3]),\n",
       "  array([4.9, 2.4, 3.3, 1. ]),\n",
       "  array([7.7, 3.8, 6.7, 2.2]),\n",
       "  array([6.8, 3. , 5.5, 2.1]),\n",
       "  array([5.5, 2.4, 3.7, 1. ]),\n",
       "  array([5. , 3.2, 1.2, 0.2]),\n",
       "  array([5.7, 2.8, 4.5, 1.3]),\n",
       "  array([5.4, 3.4, 1.5, 0.4]),\n",
       "  array([6.7, 3.1, 4.7, 1.5]),\n",
       "  array([5.2, 3.4, 1.4, 0.2]),\n",
       "  array([5.4, 3.7, 1.5, 0.2]),\n",
       "  array([6.1, 3. , 4.6, 1.4]),\n",
       "  array([5.2, 4.1, 1.5, 0.1]),\n",
       "  array([5.4, 3. , 4.5, 1.5]),\n",
       "  array([7.6, 3. , 6.6, 2.1]),\n",
       "  array([5.6, 2.8, 4.9, 2. ]),\n",
       "  array([5.7, 2.9, 4.2, 1.3]),\n",
       "  array([4.9, 3.6, 1.4, 0.1]),\n",
       "  array([5.1, 3.8, 1.6, 0.2]),\n",
       "  array([7.2, 3.6, 6.1, 2.5]),\n",
       "  array([4.4, 3.2, 1.3, 0.2]),\n",
       "  array([5.8, 2.8, 5.1, 2.4]),\n",
       "  array([6.5, 3. , 5.8, 2.2]),\n",
       "  array([6.7, 3.3, 5.7, 2.1]),\n",
       "  array([5.7, 2.5, 5. , 2. ]),\n",
       "  array([4.7, 3.2, 1.6, 0.2]),\n",
       "  array([4.9, 2.5, 4.5, 1.7]),\n",
       "  array([5.6, 3. , 4.1, 1.3]),\n",
       "  array([4.4, 3. , 1.3, 0.2]),\n",
       "  array([5.5, 2.5, 4. , 1.3]),\n",
       "  array([5.6, 2.5, 3.9, 1.1]),\n",
       "  array([5.4, 3.4, 1.7, 0.2]),\n",
       "  array([6.4, 2.8, 5.6, 2.2]),\n",
       "  array([5.1, 3.7, 1.5, 0.4]),\n",
       "  array([5.4, 3.9, 1.7, 0.4]),\n",
       "  array([4.8, 3.1, 1.6, 0.2]),\n",
       "  array([6.1, 2.8, 4. , 1.3]),\n",
       "  array([4.9, 3.1, 1.5, 0.2]),\n",
       "  array([5.8, 2.7, 5.1, 1.9]),\n",
       "  array([6.5, 3. , 5.2, 2. ]),\n",
       "  array([6.4, 2.8, 5.6, 2.1]),\n",
       "  array([6.3, 2.5, 4.9, 1.5]),\n",
       "  array([7.2, 3.2, 6. , 1.8]),\n",
       "  array([5.1, 3.5, 1.4, 0.3]),\n",
       "  array([5.9, 3.2, 4.8, 1.8]),\n",
       "  array([6.3, 2.7, 4.9, 1.8]),\n",
       "  array([6.2, 2.8, 4.8, 1.8]),\n",
       "  array([6.2, 2.2, 4.5, 1.5]),\n",
       "  array([6. , 2.7, 5.1, 1.6]),\n",
       "  array([5.4, 3.9, 1.3, 0.4]),\n",
       "  array([6.9, 3.2, 5.7, 2.3]),\n",
       "  array([5.6, 2.9, 3.6, 1.3]),\n",
       "  array([6.3, 3.3, 4.7, 1.6])],\n",
       " [0,\n",
       "  2,\n",
       "  1,\n",
       "  1,\n",
       "  2,\n",
       "  0,\n",
       "  1,\n",
       "  2,\n",
       "  0,\n",
       "  2,\n",
       "  2,\n",
       "  0,\n",
       "  0,\n",
       "  2,\n",
       "  0,\n",
       "  1,\n",
       "  0,\n",
       "  1,\n",
       "  2,\n",
       "  0,\n",
       "  0,\n",
       "  0,\n",
       "  2,\n",
       "  1,\n",
       "  2,\n",
       "  1,\n",
       "  2,\n",
       "  2,\n",
       "  1,\n",
       "  0,\n",
       "  1,\n",
       "  0,\n",
       "  2,\n",
       "  1,\n",
       "  2,\n",
       "  0,\n",
       "  1,\n",
       "  0,\n",
       "  1,\n",
       "  0,\n",
       "  1,\n",
       "  1,\n",
       "  1,\n",
       "  2,\n",
       "  0,\n",
       "  0,\n",
       "  2,\n",
       "  1,\n",
       "  0,\n",
       "  1,\n",
       "  1,\n",
       "  0,\n",
       "  2,\n",
       "  2,\n",
       "  2,\n",
       "  1,\n",
       "  1,\n",
       "  1,\n",
       "  0,\n",
       "  1,\n",
       "  1,\n",
       "  0,\n",
       "  2,\n",
       "  1,\n",
       "  0,\n",
       "  1,\n",
       "  2,\n",
       "  2,\n",
       "  0,\n",
       "  2,\n",
       "  1,\n",
       "  0,\n",
       "  2,\n",
       "  2,\n",
       "  2,\n",
       "  1,\n",
       "  0,\n",
       "  0,\n",
       "  0,\n",
       "  1,\n",
       "  0,\n",
       "  0,\n",
       "  0,\n",
       "  0,\n",
       "  2,\n",
       "  0,\n",
       "  2,\n",
       "  1,\n",
       "  1,\n",
       "  0,\n",
       "  0,\n",
       "  1,\n",
       "  1,\n",
       "  0,\n",
       "  0,\n",
       "  0,\n",
       "  1,\n",
       "  2,\n",
       "  1,\n",
       "  0,\n",
       "  1],\n",
       " [array([6.1, 2.8, 4. , 1.3]),\n",
       "  array([5.2, 2.7, 3.9, 1.4]),\n",
       "  array([6. , 2.7, 5.1, 1.6]),\n",
       "  array([6.7, 2.5, 5.8, 1.8]),\n",
       "  array([6.4, 3.2, 5.3, 2.3]),\n",
       "  array([5.7, 3. , 4.2, 1.2]),\n",
       "  array([5.4, 3.9, 1.3, 0.4]),\n",
       "  array([5.7, 2.8, 4.5, 1.3]),\n",
       "  array([5.2, 3.4, 1.4, 0.2]),\n",
       "  array([5.4, 3.4, 1.7, 0.2]),\n",
       "  array([5.7, 2.9, 4.2, 1.3]),\n",
       "  array([4.6, 3.4, 1.4, 0.3]),\n",
       "  array([6.9, 3.1, 5.4, 2.1]),\n",
       "  array([6.7, 3. , 5.2, 2.3]),\n",
       "  array([6. , 3. , 4.8, 1.8]),\n",
       "  array([5.6, 2.5, 3.9, 1.1]),\n",
       "  array([4.3, 3. , 1.1, 0.1]),\n",
       "  array([5.4, 3.9, 1.7, 0.4]),\n",
       "  array([4.6, 3.6, 1. , 0.2]),\n",
       "  array([4.7, 3.2, 1.6, 0.2]),\n",
       "  array([6.5, 3. , 5.5, 1.8]),\n",
       "  array([7.2, 3.2, 6. , 1.8]),\n",
       "  array([4.8, 3.4, 1.6, 0.2]),\n",
       "  array([6. , 2.2, 5. , 1.5]),\n",
       "  array([6.3, 2.5, 4.9, 1.5]),\n",
       "  array([5.1, 3.3, 1.7, 0.5]),\n",
       "  array([6.8, 3. , 5.5, 2.1]),\n",
       "  array([6.7, 3.1, 4.4, 1.4]),\n",
       "  array([6.7, 3. , 5. , 1.7]),\n",
       "  array([4.5, 2.3, 1.3, 0.3]),\n",
       "  array([5.9, 3. , 4.2, 1.5]),\n",
       "  array([6.5, 3. , 5.8, 2.2]),\n",
       "  array([5. , 2. , 3.5, 1. ]),\n",
       "  array([6.3, 2.5, 5. , 1.9]),\n",
       "  array([5.1, 3.5, 1.4, 0.2]),\n",
       "  array([6.7, 3.3, 5.7, 2.5]),\n",
       "  array([5. , 3.5, 1.3, 0.3]),\n",
       "  array([4.4, 2.9, 1.4, 0.2]),\n",
       "  array([5.5, 3.5, 1.3, 0.2]),\n",
       "  array([5.1, 2.5, 3. , 1.1]),\n",
       "  array([5.5, 2.3, 4. , 1.3]),\n",
       "  array([5.1, 3.8, 1.6, 0.2]),\n",
       "  array([5. , 3. , 1.6, 0.2]),\n",
       "  array([7.3, 2.9, 6.3, 1.8]),\n",
       "  array([7. , 3.2, 4.7, 1.4]),\n",
       "  array([4.6, 3.1, 1.5, 0.2]),\n",
       "  array([4.9, 2.5, 4.5, 1.7]),\n",
       "  array([5.8, 2.7, 3.9, 1.2]),\n",
       "  array([7.7, 3.8, 6.7, 2.2]),\n",
       "  array([4.7, 3.2, 1.3, 0.2])],\n",
       " [0,\n",
       "  2,\n",
       "  1,\n",
       "  0,\n",
       "  2,\n",
       "  2,\n",
       "  0,\n",
       "  0,\n",
       "  0,\n",
       "  2,\n",
       "  2,\n",
       "  1,\n",
       "  2,\n",
       "  2,\n",
       "  2,\n",
       "  0,\n",
       "  0,\n",
       "  2,\n",
       "  2,\n",
       "  1,\n",
       "  1,\n",
       "  0,\n",
       "  1,\n",
       "  1,\n",
       "  1,\n",
       "  1,\n",
       "  0,\n",
       "  0,\n",
       "  0,\n",
       "  2,\n",
       "  0,\n",
       "  2,\n",
       "  1,\n",
       "  1,\n",
       "  1,\n",
       "  2,\n",
       "  1,\n",
       "  1,\n",
       "  1,\n",
       "  1,\n",
       "  2,\n",
       "  1,\n",
       "  0,\n",
       "  1,\n",
       "  2,\n",
       "  0,\n",
       "  0,\n",
       "  0,\n",
       "  1,\n",
       "  1]]"
      ]
     },
     "execution_count": 22,
     "metadata": {},
     "output_type": "execute_result"
    }
   ],
   "source": [
    "split(irisData)"
   ]
  },
  {
   "cell_type": "raw",
   "metadata": {},
   "source": [
    "Créez la fonction test(S, clf) qui sépare S en deux parties, puis apprend sur la première partie un modèle avec l'estimateur clf, et teste ce modèle sur l'autre partie, en comptant les erreurs faites sur l'échantillon : la proportion d'erreurs est renvoyée par la fonction. Testez cette fonction sur iris avec naive Bayes."
   ]
  },
  {
   "cell_type": "code",
   "execution_count": 23,
   "metadata": {},
   "outputs": [],
   "source": [
    "def test(S,nb):\n",
    "    resultatSplit=split(S) \n",
    "    premierepartie=resultatSplit[0]\n",
    "    deuxiemepartie=resultatSplit[2]\n",
    "    target1=resultatSplit[1] \n",
    "    target2=resultatSplit[3]\n",
    "    nb.fit(premierepartie[:-1], target1[:-1])\n",
    "    prediction=nb.predict(deuxiemepartie)\n",
    "    r=0.0\n",
    "    r=1-((len(prediction) - Counter(prediction-target2)[0])/len(deuxiemepartie))\n",
    "    return(r) "
   ]
  },
  {
   "cell_type": "code",
   "execution_count": 24,
   "metadata": {},
   "outputs": [
    {
     "data": {
      "text/plain": [
       "0.24"
      ]
     },
     "execution_count": 24,
     "metadata": {},
     "output_type": "execute_result"
    }
   ],
   "source": [
    "test (irisData, nb)"
   ]
  },
  {
   "cell_type": "raw",
   "metadata": {},
   "source": [
    "L'erreur estimée est-elle plus petite que l'erreur apparente précédemment calculée ? Obtient-on toujours la même estimation pour l'erreur réelle ?"
   ]
  },
  {
   "cell_type": "markdown",
   "metadata": {},
   "source": [
    "L'erreur est légèrement supérieure"
   ]
  },
  {
   "cell_type": "raw",
   "metadata": {},
   "source": [
    "Réalisez t fois le test de la fonction test sur le même jeu de données et avec le même algorithme d'apprentissage, puis moyennez les erreurs estimées. Quelle erreur moyenne obtenez-vous pour t = 10; 50; 100; 200; 500; 1000 ? Puis, pour chaque t, répétez 20 fois l'expérience : pour chaque t, est-ce que l'erreur moyenne est stable ou non ? Pouvezvous interpréter ce résultat ?"
   ]
  },
  {
   "cell_type": "code",
   "execution_count": 25,
   "metadata": {},
   "outputs": [],
   "source": [
    "def testRepet(nombre, S, nb):\n",
    "    e=0.0\n",
    "    t=0.0\n",
    "    for i in range (1, nombre):\n",
    "        t=test(S,nb)\n",
    "        e=e+t\n",
    "    emoy=e/nombre\n",
    "    print(emoy)"
   ]
  },
  {
   "cell_type": "code",
   "execution_count": 26,
   "metadata": {},
   "outputs": [
    {
     "name": "stdout",
     "output_type": "stream",
     "text": [
      "0.31399999999999995\n"
     ]
    }
   ],
   "source": [
    "testRepet(10, irisData, nb)"
   ]
  },
  {
   "cell_type": "code",
   "execution_count": 27,
   "metadata": {},
   "outputs": [
    {
     "name": "stdout",
     "output_type": "stream",
     "text": [
      "0.3232000000000001\n"
     ]
    }
   ],
   "source": [
    "testRepet(50, irisData, nb)"
   ]
  },
  {
   "cell_type": "code",
   "execution_count": 28,
   "metadata": {},
   "outputs": [
    {
     "name": "stdout",
     "output_type": "stream",
     "text": [
      "0.32940000000000014\n"
     ]
    }
   ],
   "source": [
    "testRepet(100, irisData, nb)"
   ]
  },
  {
   "cell_type": "code",
   "execution_count": 29,
   "metadata": {},
   "outputs": [
    {
     "name": "stdout",
     "output_type": "stream",
     "text": [
      "0.3255000000000001\n"
     ]
    }
   ],
   "source": [
    "testRepet(200, irisData, nb)"
   ]
  },
  {
   "cell_type": "code",
   "execution_count": 30,
   "metadata": {},
   "outputs": [
    {
     "name": "stdout",
     "output_type": "stream",
     "text": [
      "0.3290799999999999\n"
     ]
    }
   ],
   "source": [
    "testRepet(500, irisData, nb)"
   ]
  },
  {
   "cell_type": "code",
   "execution_count": 31,
   "metadata": {},
   "outputs": [
    {
     "name": "stdout",
     "output_type": "stream",
     "text": [
      "0.3331999999999989\n"
     ]
    }
   ],
   "source": [
    "testRepet(1000, irisData, nb)"
   ]
  },
  {
   "cell_type": "code",
   "execution_count": 32,
   "metadata": {},
   "outputs": [
    {
     "name": "stdout",
     "output_type": "stream",
     "text": [
      "0.28800000000000003\n",
      "0.30799999999999994\n"
     ]
    }
   ],
   "source": [
    "for i in (1 , 20):\n",
    "    testRepet(10, irisData, nb)"
   ]
  },
  {
   "cell_type": "raw",
   "metadata": {},
   "source": [
    "Est-ce que l'erreur estimée (dans sa version stable), dans le cas d'un échantillon de test qui ne prend que le 10ème de l'échantillon initial, est la même qu'avec la proportion d'1/3 ?"
   ]
  },
  {
   "cell_type": "markdown",
   "metadata": {},
   "source": [
    "Oui 0,33"
   ]
  },
  {
   "cell_type": "raw",
   "metadata": {},
   "source": [
    "train_test_split. Elle prend en entrée un échantillon de données (descriptions et cibles), et le sépare, selon une proportion en paramètre, en un ensemble d'apprentissage et un ensemble test (par défaut : test_size=0.25). Elle renvoie ainsi quatre quantités, dans l'ordre : une matrice de descriptions des données pour l'apprentissage (D_train), une matrice de descriptions des données pour le test (D_test), le vecteur des classes (cibles) des données d'apprentissage (C train), et le vecteur des classes (cibles) des données de test (C test)."
   ]
  },
  {
   "cell_type": "code",
   "execution_count": 33,
   "metadata": {},
   "outputs": [],
   "source": [
    "from sklearn.model_selection import train_test_split\n",
    "X_train,X_test,y_train,y_test=train_test_split(irisData.data,irisData.target,test_size=0.33)"
   ]
  },
  {
   "cell_type": "raw",
   "metadata": {},
   "source": [
    "Testez cette fonction avec plusieurs valeurs pour test size (dont 0.33) pour estimer l'erreur réelle de naïve Bayes sur les données Iris. Quelles erreurs obtenez-vous ?"
   ]
  },
  {
   "cell_type": "code",
   "execution_count": 34,
   "metadata": {},
   "outputs": [
    {
     "data": {
      "text/plain": [
       "0.48"
      ]
     },
     "execution_count": 34,
     "metadata": {},
     "output_type": "execute_result"
    }
   ],
   "source": [
    "nb.score(X_test,y_test)"
   ]
  },
  {
   "cell_type": "markdown",
   "metadata": {},
   "source": [
    "# 2.2 Estimer l'erreur réelle par validation croisée"
   ]
  },
  {
   "cell_type": "code",
   "execution_count": 35,
   "metadata": {},
   "outputs": [],
   "source": [
    "from sklearn.model_selection import cross_val_score\n",
    "scores = cross_val_score(nb, irisData.data, irisData.target, cv=10)"
   ]
  },
  {
   "cell_type": "code",
   "execution_count": 36,
   "metadata": {},
   "outputs": [
    {
     "data": {
      "text/plain": [
       "array([1.        , 1.        , 1.        , 0.93333333, 0.86666667,\n",
       "       0.93333333, 0.8       , 1.        , 1.        , 1.        ])"
      ]
     },
     "execution_count": 36,
     "metadata": {},
     "output_type": "execute_result"
    }
   ],
   "source": [
    "scores"
   ]
  },
  {
   "cell_type": "code",
   "execution_count": 37,
   "metadata": {},
   "outputs": [],
   "source": [
    "scores = cross_val_score(nb, irisData.data, irisData.target, cv=2)"
   ]
  },
  {
   "cell_type": "code",
   "execution_count": 38,
   "metadata": {},
   "outputs": [
    {
     "data": {
      "text/plain": [
       "array([0.96      , 0.94666667])"
      ]
     },
     "execution_count": 38,
     "metadata": {},
     "output_type": "execute_result"
    }
   ],
   "source": [
    "scores"
   ]
  },
  {
   "cell_type": "code",
   "execution_count": 39,
   "metadata": {},
   "outputs": [],
   "source": [
    "scores = cross_val_score(nb, irisData.data, irisData.target, cv=5)"
   ]
  },
  {
   "cell_type": "code",
   "execution_count": 40,
   "metadata": {},
   "outputs": [
    {
     "data": {
      "text/plain": [
       "array([1.        , 0.96666667, 0.9       , 0.9       , 1.        ])"
      ]
     },
     "execution_count": 40,
     "metadata": {},
     "output_type": "execute_result"
    }
   ],
   "source": [
    "scores"
   ]
  },
  {
   "cell_type": "code",
   "execution_count": 41,
   "metadata": {},
   "outputs": [],
   "source": [
    "scores = cross_val_score(nb, irisData.data, irisData.target, cv=8)"
   ]
  },
  {
   "cell_type": "code",
   "execution_count": 42,
   "metadata": {},
   "outputs": [
    {
     "data": {
      "text/plain": [
       "array([1.        , 1.        , 0.94444444, 0.88888889, 0.88888889,\n",
       "       0.88888889, 1.        , 1.        ])"
      ]
     },
     "execution_count": 42,
     "metadata": {},
     "output_type": "execute_result"
    }
   ],
   "source": [
    "scores"
   ]
  },
  {
   "cell_type": "raw",
   "metadata": {},
   "source": [
    "b. Produisez un tableau résumant les différentes erreurs obtenues (calculées et estimées) sur le jeu de données iris, et commentez les écarts."
   ]
  },
  {
   "cell_type": "code",
   "execution_count": 43,
   "metadata": {},
   "outputs": [
    {
     "data": {
      "text/plain": [
       "[['Model', 'erreur calculée', 'erreur estimée'],\n",
       " ['Naive bayes', 0.33, 0.3],\n",
       " ['Decision tree', 0, 0.4]]"
      ]
     },
     "execution_count": 43,
     "metadata": {},
     "output_type": "execute_result"
    }
   ],
   "source": [
    "[[\"Model\", \"erreur calculée\" , \"erreur estimée\"],[\"Naive bayes\", 0.33 , 0.3],[\"Decision tree\",  0, 0.4]]"
   ]
  },
  {
   "cell_type": "raw",
   "metadata": {},
   "source": [
    "c. Faites de même avec une autre méthode de classiffication, que nous avons vu au cours: sklearn.tree.DecisionTreeClassifier, sans modifier les paramètres par défaut. Est-ce que les erreurs obtenues par la méthode naïve Bayes et par la méthode arbre de décision, vous permettent d'indiquer si une méthode de classification est meilleure qu'une autre ?"
   ]
  },
  {
   "cell_type": "code",
   "execution_count": 44,
   "metadata": {},
   "outputs": [],
   "source": [
    "from sklearn.tree import DecisionTreeClassifier"
   ]
  },
  {
   "cell_type": "code",
   "execution_count": 45,
   "metadata": {},
   "outputs": [],
   "source": [
    "clf = DecisionTreeClassifier(random_state=0)"
   ]
  },
  {
   "cell_type": "code",
   "execution_count": 46,
   "metadata": {},
   "outputs": [
    {
     "data": {
      "text/plain": [
       "array([1.        , 0.93333333, 1.        , 0.93333333, 0.93333333,\n",
       "       0.86666667, 0.93333333, 1.        , 1.        , 1.        ])"
      ]
     },
     "execution_count": 46,
     "metadata": {},
     "output_type": "execute_result"
    }
   ],
   "source": [
    "cross_val_score(clf, irisData.data, irisData.target, cv=10)"
   ]
  },
  {
   "cell_type": "markdown",
   "metadata": {},
   "source": [
    "L'arbre de decision a une moyenne d'erreur de 9,59 alors que naives bayes a 9,532 , Naives bayes est meilleure que decision tree"
   ]
  },
  {
   "cell_type": "code",
   "execution_count": null,
   "metadata": {},
   "outputs": [],
   "source": []
  }
 ],
 "metadata": {
  "kernelspec": {
   "display_name": "Python 3",
   "language": "python",
   "name": "python3"
  },
  "language_info": {
   "codemirror_mode": {
    "name": "ipython",
    "version": 3
   },
   "file_extension": ".py",
   "mimetype": "text/x-python",
   "name": "python",
   "nbconvert_exporter": "python",
   "pygments_lexer": "ipython3",
   "version": "3.7.1"
  }
 },
 "nbformat": 4,
 "nbformat_minor": 2
}
